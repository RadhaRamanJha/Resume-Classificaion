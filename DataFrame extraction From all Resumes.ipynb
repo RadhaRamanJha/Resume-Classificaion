{
 "cells": [
  {
   "cell_type": "markdown",
   "id": "83fc5a5b",
   "metadata": {},
   "source": [
    "## Resume Classification \n",
    "### Business objective- \n",
    "+ The document classification solution should significantly reduce the manual human effort in the HRM. It should achieve a higher level of accuracy and automation with minimal human intervention"
   ]
  },
  {
   "cell_type": "markdown",
   "id": "b54941f8",
   "metadata": {},
   "source": [
    "## Step 1. Import Necessary Libraries"
   ]
  },
  {
   "cell_type": "code",
   "execution_count": 1,
   "id": "322bd6b3",
   "metadata": {},
   "outputs": [
    {
     "name": "stderr",
     "output_type": "stream",
     "text": [
      "[INFO] NumExpr defaulting to 8 threads.\n"
     ]
    }
   ],
   "source": [
    "import os\n",
    "import re\n",
    "import nltk\n",
    "import spacy\n",
    "import string\n",
    "import textract\n",
    "from docx import Document\n",
    "import doc2docx\n",
    "from pdf2docx import Converter\n",
    "import pandas as pd\n",
    "import seaborn as sns\n",
    "from matplotlib import pylab\n",
    "from matplotlib import pyplot as plt\n",
    "from sklearn.preprocessing import LabelEncoder\n",
    "\n",
    "\n",
    "from nltk.corpus import stopwords\n",
    "from nltk.tokenize import RegexpTokenizer\n",
    "from wordcloud import WordCloud, STOPWORDS\n",
    "from nltk.stem import PorterStemmer, WordNetLemmatizer\n",
    "from sklearn.feature_extraction.text import CountVectorizer\n",
    "\n",
    "import warnings\n",
    "warnings.filterwarnings('ignore')"
   ]
  },
  {
   "cell_type": "code",
   "execution_count": 2,
   "id": "11a5ec69",
   "metadata": {},
   "outputs": [
    {
     "data": {
      "text/plain": [
       "['Intership',\n",
       " 'Peoplesoft resumes',\n",
       " 'Reactjs',\n",
       " 'SQL Developer Lightning insight',\n",
       " 'workday resumes']"
      ]
     },
     "execution_count": 2,
     "metadata": {},
     "output_type": "execute_result"
    }
   ],
   "source": [
    "os.listdir('Resumes/')"
   ]
  },
  {
   "cell_type": "markdown",
   "id": "9d3b23bc",
   "metadata": {},
   "source": [
    "## Step 2. Convert PDF file to docx"
   ]
  },
  {
   "cell_type": "code",
   "execution_count": 3,
   "id": "3dd8301c",
   "metadata": {},
   "outputs": [
    {
     "name": "stderr",
     "output_type": "stream",
     "text": [
      "[INFO] Start to convert C:\\Users\\radha\\Resume-Classificaion\\Resumes\\Reactjs\\Reactjs Developer_Prabakaran_Musquare Technologies.pdf\n",
      "[INFO] \u001b[1;36m[1/4] Opening document...\u001b[0m\n",
      "[INFO] \u001b[1;36m[2/4] Analyzing document...\u001b[0m\n",
      "[INFO] \u001b[1;36m[3/4] Parsing pages...\u001b[0m\n",
      "[INFO] (1/2) Page 1\n",
      "[INFO] (2/2) Page 2\n",
      "[INFO] \u001b[1;36m[4/4] Creating pages...\u001b[0m\n",
      "[INFO] (1/2) Page 1\n",
      "[INFO] (2/2) Page 2\n",
      "[INFO] Terminated in 2.36s.\n"
     ]
    }
   ],
   "source": [
    "## Keeping PDF file location in a seperate variable\n",
    "pdf_file = r\"C:\\Users\\radha\\Resume-Classificaion\\Resumes\\Reactjs\\Reactjs Developer_Prabakaran_Musquare Technologies.pdf\"\n",
    "# Maintaining the Document's path in a separate variable\n",
    "docx_file = r\"C:\\Users\\radha\\Resume-Classificaion\\Resumes\\Reactjs\\Reactjs Developer_Prabakaran_Musquare Technologies.docx\"\n",
    "# Using the built-in function, convert the PDF file to a document file by saving it in a variable.\n",
    "cv = Converter(pdf_file)\n",
    "# Storing the Document in the variable's initialised path\n",
    "cv.convert(docx_file)\n",
    "# Convertion closer through the function close()\n",
    "cv.close()"
   ]
  },
  {
   "cell_type": "markdown",
   "id": "b2c1411a",
   "metadata": {},
   "source": [
    "## Step3 : Prepare Convert doc to docx founction and\n",
    "## Adding the data in .docx file into data frame"
   ]
  },
  {
   "cell_type": "code",
   "execution_count": 4,
   "id": "b129298c",
   "metadata": {},
   "outputs": [
    {
     "data": {
      "text/plain": [
       "['Internship_Ravali_Musquare Technologies (1).docx',\n",
       " 'Internship_Susovan Bag_Musquare Technologies.docx']"
      ]
     },
     "execution_count": 4,
     "metadata": {},
     "output_type": "execute_result"
    }
   ],
   "source": [
    "os.listdir('Resumes/Intership/')"
   ]
  },
  {
   "cell_type": "code",
   "execution_count": 5,
   "id": "994de41d",
   "metadata": {},
   "outputs": [],
   "source": [
    "file_path1 = []\n",
    "category1  = []\n",
    "directory1 = 'Resumes/Intership/'\n",
    "Internships = os.listdir('Resumes/Intership/')\n",
    "for intership in Internships:\n",
    "    os.path.join(directory1,intership)\n",
    "    file_path1.append(textract.process(os.path.join(directory1,intership)))\n",
    "    category1.append('Intership')"
   ]
  },
  {
   "cell_type": "code",
   "execution_count": 6,
   "id": "9286aa25",
   "metadata": {},
   "outputs": [
    {
     "data": {
      "text/html": [
       "<div>\n",
       "<style scoped>\n",
       "    .dataframe tbody tr th:only-of-type {\n",
       "        vertical-align: middle;\n",
       "    }\n",
       "\n",
       "    .dataframe tbody tr th {\n",
       "        vertical-align: top;\n",
       "    }\n",
       "\n",
       "    .dataframe thead th {\n",
       "        text-align: right;\n",
       "    }\n",
       "</style>\n",
       "<table border=\"1\" class=\"dataframe\">\n",
       "  <thead>\n",
       "    <tr style=\"text-align: right;\">\n",
       "      <th></th>\n",
       "      <th>Raw Details</th>\n",
       "      <th>Category</th>\n",
       "    </tr>\n",
       "  </thead>\n",
       "  <tbody>\n",
       "    <tr>\n",
       "      <th>0</th>\n",
       "      <td>b'Name: Ravali P \\n\\n\\n\\n                     ...</td>\n",
       "      <td>Intership</td>\n",
       "    </tr>\n",
       "    <tr>\n",
       "      <th>1</th>\n",
       "      <td>b'SUSOVAN  BAG   \\n\\nSeeking  a  challenging  ...</td>\n",
       "      <td>Intership</td>\n",
       "    </tr>\n",
       "  </tbody>\n",
       "</table>\n",
       "</div>"
      ],
      "text/plain": [
       "                                         Raw Details   Category\n",
       "0  b'Name: Ravali P \\n\\n\\n\\n                     ...  Intership\n",
       "1  b'SUSOVAN  BAG   \\n\\nSeeking  a  challenging  ...  Intership"
      ]
     },
     "execution_count": 6,
     "metadata": {},
     "output_type": "execute_result"
    }
   ],
   "source": [
    "data1 = pd.DataFrame(file_path1,columns = ['Raw Details'])\n",
    "data1['Category'] = category1\n",
    "data1"
   ]
  },
  {
   "cell_type": "code",
   "execution_count": 7,
   "id": "ad36112f",
   "metadata": {},
   "outputs": [
    {
     "name": "stdout",
     "output_type": "stream",
     "text": [
      "Resumes/Peoplesoft resumes/Peoplesoft Admin_Priyanka Ramadoss.doc\n"
     ]
    },
    {
     "data": {
      "application/vnd.jupyter.widget-view+json": {
       "model_id": "ffa72e140c584890a5ab2941bf26b2d4",
       "version_major": 2,
       "version_minor": 0
      },
      "text/plain": [
       "  0%|          | 0/1 [00:00<?, ?it/s]"
      ]
     },
     "metadata": {},
     "output_type": "display_data"
    },
    {
     "name": "stdout",
     "output_type": "stream",
     "text": [
      "Resumes/Peoplesoft resumes/Peoplesoft Admin_srinivasarao.doc\n"
     ]
    },
    {
     "data": {
      "application/vnd.jupyter.widget-view+json": {
       "model_id": "f6539f170a3e477d8ba7d422932f2062",
       "version_major": 2,
       "version_minor": 0
      },
      "text/plain": [
       "  0%|          | 0/1 [00:00<?, ?it/s]"
      ]
     },
     "metadata": {},
     "output_type": "display_data"
    },
    {
     "name": "stdout",
     "output_type": "stream",
     "text": [
      "Resumes/Peoplesoft resumes/Peoplesoft Admin_Vinod Akkala.doc\n"
     ]
    },
    {
     "data": {
      "application/vnd.jupyter.widget-view+json": {
       "model_id": "55bd23a674a94aa7b69ac151f8c1419c",
       "version_major": 2,
       "version_minor": 0
      },
      "text/plain": [
       "  0%|          | 0/1 [00:00<?, ?it/s]"
      ]
     },
     "metadata": {},
     "output_type": "display_data"
    },
    {
     "name": "stdout",
     "output_type": "stream",
     "text": [
      "Resumes/Peoplesoft resumes/PeopleSoft DBA_Ganesh Alladi.doc\n"
     ]
    },
    {
     "data": {
      "application/vnd.jupyter.widget-view+json": {
       "model_id": "65d5f31c6bb740d89a8649d9d7913088",
       "version_major": 2,
       "version_minor": 0
      },
      "text/plain": [
       "  0%|          | 0/1 [00:00<?, ?it/s]"
      ]
     },
     "metadata": {},
     "output_type": "display_data"
    },
    {
     "name": "stdout",
     "output_type": "stream",
     "text": [
      "Resumes/Peoplesoft resumes/Peoplesoft Finance_Arun Venu.doc\n"
     ]
    },
    {
     "data": {
      "application/vnd.jupyter.widget-view+json": {
       "model_id": "c3c7787b8b694d00814e8bf563439347",
       "version_major": 2,
       "version_minor": 0
      },
      "text/plain": [
       "  0%|          | 0/1 [00:00<?, ?it/s]"
      ]
     },
     "metadata": {},
     "output_type": "display_data"
    },
    {
     "name": "stdout",
     "output_type": "stream",
     "text": [
      "Resumes/Peoplesoft resumes/Peoplesoft Finance_Pritam Biswas.doc\n"
     ]
    },
    {
     "data": {
      "application/vnd.jupyter.widget-view+json": {
       "model_id": "92b5c46cc88a45b5afcc9547ed54e6a2",
       "version_major": 2,
       "version_minor": 0
      },
      "text/plain": [
       "  0%|          | 0/1 [00:00<?, ?it/s]"
      ]
     },
     "metadata": {},
     "output_type": "display_data"
    },
    {
     "name": "stdout",
     "output_type": "stream",
     "text": [
      "Resumes/Peoplesoft resumes/Peoplesoft Finance_Rahul Ahuja.doc\n"
     ]
    },
    {
     "data": {
      "application/vnd.jupyter.widget-view+json": {
       "model_id": "38a737d51e874040a28c1471de71c0f1",
       "version_major": 2,
       "version_minor": 0
      },
      "text/plain": [
       "  0%|          | 0/1 [00:00<?, ?it/s]"
      ]
     },
     "metadata": {},
     "output_type": "display_data"
    },
    {
     "name": "stdout",
     "output_type": "stream",
     "text": [
      "Resumes/Peoplesoft resumes/Peoplesoft FSCM_R Ahmed.doc\n"
     ]
    },
    {
     "data": {
      "application/vnd.jupyter.widget-view+json": {
       "model_id": "670dcc1b515e44698c7dcabc44e34f4c",
       "version_major": 2,
       "version_minor": 0
      },
      "text/plain": [
       "  0%|          | 0/1 [00:00<?, ?it/s]"
      ]
     },
     "metadata": {},
     "output_type": "display_data"
    }
   ],
   "source": [
    "directory2 = 'Resumes/Peoplesoft resumes/'\n",
    "Peoplesofts = os.listdir('Resumes/Peoplesoft resumes/')\n",
    "for Peoplesoft in Peoplesofts:\n",
    "    if Peoplesoft.endswith('.doc'):\n",
    "        os.path.join(directory2,Peoplesoft)\n",
    "        print(os.path.join(directory2,Peoplesoft))\n",
    "        doc2docx.convert(os.path.join(directory2,Peoplesoft))"
   ]
  },
  {
   "cell_type": "code",
   "execution_count": 8,
   "id": "45526221",
   "metadata": {},
   "outputs": [],
   "source": [
    "file_path2 = []\n",
    "category2  = []\n",
    "for Peoplesoft in Peoplesofts:\n",
    "    if Peoplesoft.endswith('.docx'):\n",
    "        os.path.join(directory2,Peoplesoft)\n",
    "        file_path2.append(textract.process(os.path.join(directory2,Peoplesoft)))\n",
    "        category2.append('Peoplesoft')"
   ]
  },
  {
   "cell_type": "code",
   "execution_count": 9,
   "id": "ca53cc71",
   "metadata": {},
   "outputs": [
    {
     "data": {
      "text/html": [
       "<div>\n",
       "<style scoped>\n",
       "    .dataframe tbody tr th:only-of-type {\n",
       "        vertical-align: middle;\n",
       "    }\n",
       "\n",
       "    .dataframe tbody tr th {\n",
       "        vertical-align: top;\n",
       "    }\n",
       "\n",
       "    .dataframe thead th {\n",
       "        text-align: right;\n",
       "    }\n",
       "</style>\n",
       "<table border=\"1\" class=\"dataframe\">\n",
       "  <thead>\n",
       "    <tr style=\"text-align: right;\">\n",
       "      <th></th>\n",
       "      <th>Raw Details</th>\n",
       "      <th>Category2</th>\n",
       "    </tr>\n",
       "  </thead>\n",
       "  <tbody>\n",
       "    <tr>\n",
       "      <th>0</th>\n",
       "      <td>b'Anubhav Kumar Singh\\t\\t\\n\\n\\n\\nCore Competen...</td>\n",
       "      <td>Peoplesoft</td>\n",
       "    </tr>\n",
       "    <tr>\n",
       "      <th>1</th>\n",
       "      <td>b'G. Ananda Rayudu \\n\\n\\t\\t       https://www....</td>\n",
       "      <td>Peoplesoft</td>\n",
       "    </tr>\n",
       "    <tr>\n",
       "      <th>2</th>\n",
       "      <td>b'PeopleSoft Database Administrator\\n\\n       ...</td>\n",
       "      <td>Peoplesoft</td>\n",
       "    </tr>\n",
       "    <tr>\n",
       "      <th>3</th>\n",
       "      <td>b'Classification: Internal\\n\\nClassification: ...</td>\n",
       "      <td>Peoplesoft</td>\n",
       "    </tr>\n",
       "    <tr>\n",
       "      <th>4</th>\n",
       "      <td>b'Priyanka Ramadoss\\n\\n\\t61/46, MountPleasant,...</td>\n",
       "      <td>Peoplesoft</td>\n",
       "    </tr>\n",
       "    <tr>\n",
       "      <th>5</th>\n",
       "      <td>b\"SIRAZUDDIN M\\n\\n\\tBangalore, INDIA\\t\\n\\n\\n\\n...</td>\n",
       "      <td>Peoplesoft</td>\n",
       "    </tr>\n",
       "    <tr>\n",
       "      <th>6</th>\n",
       "      <td>b\"PEOPLESOFT Administrator\\n\\n\\n\\n\\n\\nSRINIVAS...</td>\n",
       "      <td>Peoplesoft</td>\n",
       "    </tr>\n",
       "    <tr>\n",
       "      <th>7</th>\n",
       "      <td>b\"PeopleSoft Admin\\n\\nVARKALA VIKAS\\n\\n\\n\\nCar...</td>\n",
       "      <td>Peoplesoft</td>\n",
       "    </tr>\n",
       "    <tr>\n",
       "      <th>8</th>\n",
       "      <td>b'Vinod Akkala                                ...</td>\n",
       "      <td>Peoplesoft</td>\n",
       "    </tr>\n",
       "    <tr>\n",
       "      <th>9</th>\n",
       "      <td>b\"PeopleSoft Admin/PeopleSoft DBA\\n\\n\\n\\nGanes...</td>\n",
       "      <td>Peoplesoft</td>\n",
       "    </tr>\n",
       "    <tr>\n",
       "      <th>10</th>\n",
       "      <td>b'PeopleSoft Administration\\n\\n \\n\\nVivekanand...</td>\n",
       "      <td>Peoplesoft</td>\n",
       "    </tr>\n",
       "    <tr>\n",
       "      <th>11</th>\n",
       "      <td>b'Arun Venu\\n\\n\\n\\n\\t  EXPERIENCE SUMMARY\\t\\n\\...</td>\n",
       "      <td>Peoplesoft</td>\n",
       "    </tr>\n",
       "    <tr>\n",
       "      <th>12</th>\n",
       "      <td>b'Personal Details\\t\\t\\n\\n\\n\\nName\\n\\nPritam B...</td>\n",
       "      <td>Peoplesoft</td>\n",
       "    </tr>\n",
       "    <tr>\n",
       "      <th>13</th>\n",
       "      <td>b'Rahul Ahuja\\n\\n-----------------------------...</td>\n",
       "      <td>Peoplesoft</td>\n",
       "    </tr>\n",
       "    <tr>\n",
       "      <th>14</th>\n",
       "      <td>b'Hari Narayana \\t\\t              \\n\\n\\t\\n\\n\\n...</td>\n",
       "      <td>Peoplesoft</td>\n",
       "    </tr>\n",
       "    <tr>\n",
       "      <th>15</th>\n",
       "      <td>b'Murali\\t\\t       \\n\\n\\t\\n\\n\\n\\n\\n\\n\\n\\n\\n\\n\\...</td>\n",
       "      <td>Peoplesoft</td>\n",
       "    </tr>\n",
       "    <tr>\n",
       "      <th>16</th>\n",
       "      <td>b'Priyabrata Hota\\n\\n\\n\\n\\n\\nCAREER OBJECTIVE\\...</td>\n",
       "      <td>Peoplesoft</td>\n",
       "    </tr>\n",
       "    <tr>\n",
       "      <th>17</th>\n",
       "      <td>b'R Ahmed                                     ...</td>\n",
       "      <td>Peoplesoft</td>\n",
       "    </tr>\n",
       "    <tr>\n",
       "      <th>18</th>\n",
       "      <td>b'Tanna Sujatha \\n\\n\\n\\n\\n\\n\\n\\nOBJECTIVE\\n\\nS...</td>\n",
       "      <td>Peoplesoft</td>\n",
       "    </tr>\n",
       "    <tr>\n",
       "      <th>19</th>\n",
       "      <td>b\"C O N T A C T :\\n\\n\\n\\nAddress: Manyata Tech...</td>\n",
       "      <td>Peoplesoft</td>\n",
       "    </tr>\n",
       "  </tbody>\n",
       "</table>\n",
       "</div>"
      ],
      "text/plain": [
       "                                          Raw Details   Category2\n",
       "0   b'Anubhav Kumar Singh\\t\\t\\n\\n\\n\\nCore Competen...  Peoplesoft\n",
       "1   b'G. Ananda Rayudu \\n\\n\\t\\t       https://www....  Peoplesoft\n",
       "2   b'PeopleSoft Database Administrator\\n\\n       ...  Peoplesoft\n",
       "3   b'Classification: Internal\\n\\nClassification: ...  Peoplesoft\n",
       "4   b'Priyanka Ramadoss\\n\\n\\t61/46, MountPleasant,...  Peoplesoft\n",
       "5   b\"SIRAZUDDIN M\\n\\n\\tBangalore, INDIA\\t\\n\\n\\n\\n...  Peoplesoft\n",
       "6   b\"PEOPLESOFT Administrator\\n\\n\\n\\n\\n\\nSRINIVAS...  Peoplesoft\n",
       "7   b\"PeopleSoft Admin\\n\\nVARKALA VIKAS\\n\\n\\n\\nCar...  Peoplesoft\n",
       "8   b'Vinod Akkala                                ...  Peoplesoft\n",
       "9   b\"PeopleSoft Admin/PeopleSoft DBA\\n\\n\\n\\nGanes...  Peoplesoft\n",
       "10  b'PeopleSoft Administration\\n\\n \\n\\nVivekanand...  Peoplesoft\n",
       "11  b'Arun Venu\\n\\n\\n\\n\\t  EXPERIENCE SUMMARY\\t\\n\\...  Peoplesoft\n",
       "12  b'Personal Details\\t\\t\\n\\n\\n\\nName\\n\\nPritam B...  Peoplesoft\n",
       "13  b'Rahul Ahuja\\n\\n-----------------------------...  Peoplesoft\n",
       "14  b'Hari Narayana \\t\\t              \\n\\n\\t\\n\\n\\n...  Peoplesoft\n",
       "15  b'Murali\\t\\t       \\n\\n\\t\\n\\n\\n\\n\\n\\n\\n\\n\\n\\n\\...  Peoplesoft\n",
       "16  b'Priyabrata Hota\\n\\n\\n\\n\\n\\nCAREER OBJECTIVE\\...  Peoplesoft\n",
       "17  b'R Ahmed                                     ...  Peoplesoft\n",
       "18  b'Tanna Sujatha \\n\\n\\n\\n\\n\\n\\n\\nOBJECTIVE\\n\\nS...  Peoplesoft\n",
       "19  b\"C O N T A C T :\\n\\n\\n\\nAddress: Manyata Tech...  Peoplesoft"
      ]
     },
     "execution_count": 9,
     "metadata": {},
     "output_type": "execute_result"
    }
   ],
   "source": [
    "data2 = pd.DataFrame(file_path2,columns = ['Raw Details'])\n",
    "data2['Category2'] = category2\n",
    "data2"
   ]
  },
  {
   "cell_type": "code",
   "execution_count": 10,
   "id": "ba5cb2c8",
   "metadata": {},
   "outputs": [
    {
     "name": "stdout",
     "output_type": "stream",
     "text": [
      "Resumes/Reactjs/React Developer_PavasGoswami.doc\n"
     ]
    },
    {
     "data": {
      "application/vnd.jupyter.widget-view+json": {
       "model_id": "49adc3e94af5491fb72aa27c9c11902f",
       "version_major": 2,
       "version_minor": 0
      },
      "text/plain": [
       "  0%|          | 0/1 [00:00<?, ?it/s]"
      ]
     },
     "metadata": {},
     "output_type": "display_data"
    },
    {
     "name": "stdout",
     "output_type": "stream",
     "text": [
      "Resumes/Reactjs/React Developer_Vinay Reddy.doc\n"
     ]
    },
    {
     "data": {
      "application/vnd.jupyter.widget-view+json": {
       "model_id": "785fd018d980449e9dd074419913809a",
       "version_major": 2,
       "version_minor": 0
      },
      "text/plain": [
       "  0%|          | 0/1 [00:00<?, ?it/s]"
      ]
     },
     "metadata": {},
     "output_type": "display_data"
    },
    {
     "name": "stdout",
     "output_type": "stream",
     "text": [
      "Resumes/Reactjs/React JS Developer_AnjaniPriyadarshini.doc\n"
     ]
    },
    {
     "data": {
      "application/vnd.jupyter.widget-view+json": {
       "model_id": "f511d958fa0546c6aa30a6defa428f77",
       "version_major": 2,
       "version_minor": 0
      },
      "text/plain": [
       "  0%|          | 0/1 [00:00<?, ?it/s]"
      ]
     },
     "metadata": {},
     "output_type": "display_data"
    }
   ],
   "source": [
    "directory3 = 'Resumes/Reactjs/'\n",
    "reactjs_resumes = os.listdir('Resumes/Reactjs/')\n",
    "for reactjs_resume in reactjs_resumes:\n",
    "    if reactjs_resume.endswith('.doc'):\n",
    "        os.path.join(directory3,reactjs_resume)\n",
    "        print(os.path.join(directory3,reactjs_resume))\n",
    "        doc2docx.convert(os.path.join(directory3,reactjs_resume))"
   ]
  },
  {
   "cell_type": "code",
   "execution_count": 11,
   "id": "0d0958a5",
   "metadata": {},
   "outputs": [],
   "source": [
    "file_path3 = []\n",
    "category3  = []\n",
    "for reactjs_resume in reactjs_resumes:\n",
    "    if reactjs_resume.endswith('.docx'):\n",
    "        os.path.join(directory3,reactjs_resume)\n",
    "        file_path3.append(textract.process(os.path.join(directory3,reactjs_resume)))\n",
    "        category3.append('ReactJS')"
   ]
  },
  {
   "cell_type": "code",
   "execution_count": 12,
   "id": "2addd056",
   "metadata": {},
   "outputs": [
    {
     "data": {
      "text/html": [
       "<div>\n",
       "<style scoped>\n",
       "    .dataframe tbody tr th:only-of-type {\n",
       "        vertical-align: middle;\n",
       "    }\n",
       "\n",
       "    .dataframe tbody tr th {\n",
       "        vertical-align: top;\n",
       "    }\n",
       "\n",
       "    .dataframe thead th {\n",
       "        text-align: right;\n",
       "    }\n",
       "</style>\n",
       "<table border=\"1\" class=\"dataframe\">\n",
       "  <thead>\n",
       "    <tr style=\"text-align: right;\">\n",
       "      <th></th>\n",
       "      <th>Raw Details</th>\n",
       "      <th>Category3</th>\n",
       "    </tr>\n",
       "  </thead>\n",
       "  <tbody>\n",
       "    <tr>\n",
       "      <th>0</th>\n",
       "      <td>b'Kanumuru Deepak Reddy\\n\\n\\n\\n\\t\\n\\n\\n\\nCAREE...</td>\n",
       "      <td>ReactJS</td>\n",
       "    </tr>\n",
       "    <tr>\n",
       "      <th>1</th>\n",
       "      <td>b'HARIPRIYA BATTINA \\n\\nExperience as UI Devel...</td>\n",
       "      <td>ReactJS</td>\n",
       "    </tr>\n",
       "    <tr>\n",
       "      <th>2</th>\n",
       "      <td>b'KAMALAKAR REDDY. A \\n\\nLinked In: https://ww...</td>\n",
       "      <td>ReactJS</td>\n",
       "    </tr>\n",
       "    <tr>\n",
       "      <th>3</th>\n",
       "      <td>b'Naveen Sadhu\\n\\n\\n\\n\\n\\nTitle: software deve...</td>\n",
       "      <td>ReactJS</td>\n",
       "    </tr>\n",
       "    <tr>\n",
       "      <th>4</th>\n",
       "      <td>b'FULLSTACK SOFTWARE DEVELOPER / WEB DEVELOPER...</td>\n",
       "      <td>ReactJS</td>\n",
       "    </tr>\n",
       "    <tr>\n",
       "      <th>5</th>\n",
       "      <td>b'PRAGNYA PATTNAIK\\n\\n \\n\\n \\n\\n \\n\\n Expertis...</td>\n",
       "      <td>ReactJS</td>\n",
       "    </tr>\n",
       "    <tr>\n",
       "      <th>6</th>\n",
       "      <td>b\"SARALA MADASU\\n\\nSARALA MADASU\\n\\n\\xee\\xa5\\x...</td>\n",
       "      <td>ReactJS</td>\n",
       "    </tr>\n",
       "    <tr>\n",
       "      <th>7</th>\n",
       "      <td>b\"Thirupathamma Balla\\n\\n\\n\\nSUMMARY:\\n\\n\\n\\n2...</td>\n",
       "      <td>ReactJS</td>\n",
       "    </tr>\n",
       "    <tr>\n",
       "      <th>8</th>\n",
       "      <td>b\"Maryala Vinay Reddy\\n\\n\\n\\n\\tProfessional Su...</td>\n",
       "      <td>ReactJS</td>\n",
       "    </tr>\n",
       "    <tr>\n",
       "      <th>9</th>\n",
       "      <td>b'Ui-Developer/ React JS Developer \\n\\nNAME: K...</td>\n",
       "      <td>ReactJS</td>\n",
       "    </tr>\n",
       "    <tr>\n",
       "      <th>10</th>\n",
       "      <td>b'Ui-Developer/ React JS Developer \\n\\nNAME: K...</td>\n",
       "      <td>ReactJS</td>\n",
       "    </tr>\n",
       "    <tr>\n",
       "      <th>11</th>\n",
       "      <td>b'CURRICULUM VITAE\\n\\n\\n\\n\\n\\n\\n\\nAnjani Priya...</td>\n",
       "      <td>ReactJS</td>\n",
       "    </tr>\n",
       "    <tr>\n",
       "      <th>12</th>\n",
       "      <td>b'Kotani Durga Prasad\\n\\n\\n\\n\\n\\nObjective:\\n\\...</td>\n",
       "      <td>ReactJS</td>\n",
       "    </tr>\n",
       "    <tr>\n",
       "      <th>13</th>\n",
       "      <td>b'Venkatalakshmi Pedireddy\\n\\nSoftware Develop...</td>\n",
       "      <td>ReactJS</td>\n",
       "    </tr>\n",
       "    <tr>\n",
       "      <th>14</th>\n",
       "      <td>b'KAMBALA SAI SURENDRA   \\n\\n \\n\\n \\n\\n \\n\\n\\n...</td>\n",
       "      <td>ReactJS</td>\n",
       "    </tr>\n",
       "    <tr>\n",
       "      <th>15</th>\n",
       "      <td>b'MAREEDU LOKESH BABU\\n\\nPROFESSIONAL OVERVIEW...</td>\n",
       "      <td>ReactJS</td>\n",
       "    </tr>\n",
       "    <tr>\n",
       "      <th>16</th>\n",
       "      <td>b'MAREEDU LOKESH BABU\\n\\n\\n\\nPROFESSIONAL OVER...</td>\n",
       "      <td>ReactJS</td>\n",
       "    </tr>\n",
       "    <tr>\n",
       "      <th>17</th>\n",
       "      <td>b'MD KHIZARUDDIN RAUF \\n\\n \\t EXPERIENCE \\n\\n ...</td>\n",
       "      <td>ReactJS</td>\n",
       "    </tr>\n",
       "    <tr>\n",
       "      <th>18</th>\n",
       "      <td>b'Name: M. Prabakaran \\nTitle: UI Developer\\n\\...</td>\n",
       "      <td>ReactJS</td>\n",
       "    </tr>\n",
       "    <tr>\n",
       "      <th>19</th>\n",
       "      <td>b'Pranish Sonone\\n\\n\\t\\t\\n\\n\\n\\n\\n\\n\\n\\n\\n\\nCa...</td>\n",
       "      <td>ReactJS</td>\n",
       "    </tr>\n",
       "    <tr>\n",
       "      <th>20</th>\n",
       "      <td>b\"Ranga Gaganam  \\n\\n\\n\\n \\n\\nProfessional\\n\\n...</td>\n",
       "      <td>ReactJS</td>\n",
       "    </tr>\n",
       "    <tr>\n",
       "      <th>21</th>\n",
       "      <td>b'SHAIK ABDUL SHARUK   \\n\\n2 years\\xe2\\x80\\x99...</td>\n",
       "      <td>ReactJS</td>\n",
       "    </tr>\n",
       "  </tbody>\n",
       "</table>\n",
       "</div>"
      ],
      "text/plain": [
       "                                          Raw Details Category3\n",
       "0   b'Kanumuru Deepak Reddy\\n\\n\\n\\n\\t\\n\\n\\n\\nCAREE...   ReactJS\n",
       "1   b'HARIPRIYA BATTINA \\n\\nExperience as UI Devel...   ReactJS\n",
       "2   b'KAMALAKAR REDDY. A \\n\\nLinked In: https://ww...   ReactJS\n",
       "3   b'Naveen Sadhu\\n\\n\\n\\n\\n\\nTitle: software deve...   ReactJS\n",
       "4   b'FULLSTACK SOFTWARE DEVELOPER / WEB DEVELOPER...   ReactJS\n",
       "5   b'PRAGNYA PATTNAIK\\n\\n \\n\\n \\n\\n \\n\\n Expertis...   ReactJS\n",
       "6   b\"SARALA MADASU\\n\\nSARALA MADASU\\n\\n\\xee\\xa5\\x...   ReactJS\n",
       "7   b\"Thirupathamma Balla\\n\\n\\n\\nSUMMARY:\\n\\n\\n\\n2...   ReactJS\n",
       "8   b\"Maryala Vinay Reddy\\n\\n\\n\\n\\tProfessional Su...   ReactJS\n",
       "9   b'Ui-Developer/ React JS Developer \\n\\nNAME: K...   ReactJS\n",
       "10  b'Ui-Developer/ React JS Developer \\n\\nNAME: K...   ReactJS\n",
       "11  b'CURRICULUM VITAE\\n\\n\\n\\n\\n\\n\\n\\nAnjani Priya...   ReactJS\n",
       "12  b'Kotani Durga Prasad\\n\\n\\n\\n\\n\\nObjective:\\n\\...   ReactJS\n",
       "13  b'Venkatalakshmi Pedireddy\\n\\nSoftware Develop...   ReactJS\n",
       "14  b'KAMBALA SAI SURENDRA   \\n\\n \\n\\n \\n\\n \\n\\n\\n...   ReactJS\n",
       "15  b'MAREEDU LOKESH BABU\\n\\nPROFESSIONAL OVERVIEW...   ReactJS\n",
       "16  b'MAREEDU LOKESH BABU\\n\\n\\n\\nPROFESSIONAL OVER...   ReactJS\n",
       "17  b'MD KHIZARUDDIN RAUF \\n\\n \\t EXPERIENCE \\n\\n ...   ReactJS\n",
       "18  b'Name: M. Prabakaran \\nTitle: UI Developer\\n\\...   ReactJS\n",
       "19  b'Pranish Sonone\\n\\n\\t\\t\\n\\n\\n\\n\\n\\n\\n\\n\\n\\nCa...   ReactJS\n",
       "20  b\"Ranga Gaganam  \\n\\n\\n\\n \\n\\nProfessional\\n\\n...   ReactJS\n",
       "21  b'SHAIK ABDUL SHARUK   \\n\\n2 years\\xe2\\x80\\x99...   ReactJS"
      ]
     },
     "execution_count": 12,
     "metadata": {},
     "output_type": "execute_result"
    }
   ],
   "source": [
    "data3 = pd.DataFrame(file_path3,columns = ['Raw Details'])\n",
    "data3['Category3'] = category3\n",
    "data3"
   ]
  },
  {
   "cell_type": "code",
   "execution_count": 13,
   "id": "50f4d7ac",
   "metadata": {},
   "outputs": [
    {
     "name": "stdout",
     "output_type": "stream",
     "text": [
      "Resumes/SQL Developer Lightning insight/Nazeer Basha.doc\n"
     ]
    },
    {
     "data": {
      "application/vnd.jupyter.widget-view+json": {
       "model_id": "659efb53dbe14a238681052281152bbb",
       "version_major": 2,
       "version_minor": 0
      },
      "text/plain": [
       "  0%|          | 0/1 [00:00<?, ?it/s]"
      ]
     },
     "metadata": {},
     "output_type": "display_data"
    },
    {
     "name": "stdout",
     "output_type": "stream",
     "text": [
      "Resumes/SQL Developer Lightning insight/Priyanka L.doc\n"
     ]
    },
    {
     "data": {
      "application/vnd.jupyter.widget-view+json": {
       "model_id": "ab9c56e8df9948ef92a7741ef53c1677",
       "version_major": 2,
       "version_minor": 0
      },
      "text/plain": [
       "  0%|          | 0/1 [00:00<?, ?it/s]"
      ]
     },
     "metadata": {},
     "output_type": "display_data"
    },
    {
     "name": "stdout",
     "output_type": "stream",
     "text": [
      "Resumes/SQL Developer Lightning insight/Tatikonda Kiran Kumar.doc\n"
     ]
    },
    {
     "data": {
      "application/vnd.jupyter.widget-view+json": {
       "model_id": "e1fc0582563548ada92ee56549f4b127",
       "version_major": 2,
       "version_minor": 0
      },
      "text/plain": [
       "  0%|          | 0/1 [00:00<?, ?it/s]"
      ]
     },
     "metadata": {},
     "output_type": "display_data"
    }
   ],
   "source": [
    "directory4 = 'Resumes/SQL Developer Lightning insight/'\n",
    "sql_resumes = os.listdir('Resumes/SQL Developer Lightning insight/')\n",
    "for sql_resume in sql_resumes:\n",
    "    if sql_resume.endswith('.doc'):\n",
    "        os.path.join(directory4,sql_resume)\n",
    "        print(os.path.join(directory4,sql_resume))\n",
    "        doc2docx.convert(os.path.join(directory4,sql_resume))"
   ]
  },
  {
   "cell_type": "code",
   "execution_count": 14,
   "id": "48280e2f",
   "metadata": {},
   "outputs": [],
   "source": [
    "file_path4 = []\n",
    "category4  = []\n",
    "for sql_resume in sql_resumes:\n",
    "    if sql_resume.endswith('.docx'):\n",
    "        os.path.join(directory4,sql_resume)\n",
    "        file_path4.append(textract.process(os.path.join(directory4,sql_resume)))\n",
    "        category4.append('SQL')"
   ]
  },
  {
   "cell_type": "code",
   "execution_count": 15,
   "id": "69825b5f",
   "metadata": {},
   "outputs": [
    {
     "data": {
      "text/html": [
       "<div>\n",
       "<style scoped>\n",
       "    .dataframe tbody tr th:only-of-type {\n",
       "        vertical-align: middle;\n",
       "    }\n",
       "\n",
       "    .dataframe tbody tr th {\n",
       "        vertical-align: top;\n",
       "    }\n",
       "\n",
       "    .dataframe thead th {\n",
       "        text-align: right;\n",
       "    }\n",
       "</style>\n",
       "<table border=\"1\" class=\"dataframe\">\n",
       "  <thead>\n",
       "    <tr style=\"text-align: right;\">\n",
       "      <th></th>\n",
       "      <th>Raw Details</th>\n",
       "      <th>Category4</th>\n",
       "    </tr>\n",
       "  </thead>\n",
       "  <tbody>\n",
       "    <tr>\n",
       "      <th>0</th>\n",
       "      <td>b'ANIL KUMAR MADDUKURI  \\t\\t\\n\\nSQL &amp; MSBI Dev...</td>\n",
       "      <td>SQL</td>\n",
       "    </tr>\n",
       "    <tr>\n",
       "      <th>1</th>\n",
       "      <td>b'Aradhana Tripathi\\n\\n\\n\\nCurrent Location: G...</td>\n",
       "      <td>SQL</td>\n",
       "    </tr>\n",
       "    <tr>\n",
       "      <th>2</th>\n",
       "      <td>b\"BUDDHA VAMSI                                ...</td>\n",
       "      <td>SQL</td>\n",
       "    </tr>\n",
       "    <tr>\n",
       "      <th>3</th>\n",
       "      <td>b'KAMBALLA PRADEEP                            ...</td>\n",
       "      <td>SQL</td>\n",
       "    </tr>\n",
       "    <tr>\n",
       "      <th>4</th>\n",
       "      <td>b\"\\xef\\x81\\x81 Hyderabad\\n\\n\\nNazeer Basha\\n\\n...</td>\n",
       "      <td>SQL</td>\n",
       "    </tr>\n",
       "    <tr>\n",
       "      <th>5</th>\n",
       "      <td>b'Resume\\n\\nName     :  Neeraj Mishra\\n\\n\\n\\nE...</td>\n",
       "      <td>SQL</td>\n",
       "    </tr>\n",
       "    <tr>\n",
       "      <th>6</th>\n",
       "      <td>b'SQL DEVELOPER\\n\\nName: -   Bandi prem sai\\n\\...</td>\n",
       "      <td>SQL</td>\n",
       "    </tr>\n",
       "    <tr>\n",
       "      <th>7</th>\n",
       "      <td>b'SQL SERVER DEVELOPER\\n\\n\\n\\n\\n\\nPriyanka L  ...</td>\n",
       "      <td>SQL</td>\n",
       "    </tr>\n",
       "    <tr>\n",
       "      <th>8</th>\n",
       "      <td>b'SQL SERVER DEVELOPER\\n\\n\\n\\n\\n\\nP. Syam Kuma...</td>\n",
       "      <td>SQL</td>\n",
       "    </tr>\n",
       "    <tr>\n",
       "      <th>9</th>\n",
       "      <td>b'RAJU PAVANA KUMARI\\n\\n\\n\\n\\t\\n\\n\\tProfession...</td>\n",
       "      <td>SQL</td>\n",
       "    </tr>\n",
       "    <tr>\n",
       "      <th>10</th>\n",
       "      <td>b'resume\\n\\n\\n\\n\\n\\n\\t\\t\\t\\t\\t\\t\\t\\t\\t\\t\\t\\tRa...</td>\n",
       "      <td>SQL</td>\n",
       "    </tr>\n",
       "    <tr>\n",
       "      <th>11</th>\n",
       "      <td>b'Name: Ramesh\\n\\n\\t\\n\\n\\tCareer Objective: \\n...</td>\n",
       "      <td>SQL</td>\n",
       "    </tr>\n",
       "    <tr>\n",
       "      <th>12</th>\n",
       "      <td>b'Tatikonda Kiran Kumar.\\n\\n\\n\\n\\n\\n\\n\\n\\t\\tCa...</td>\n",
       "      <td>SQL</td>\n",
       "    </tr>\n",
       "    <tr>\n",
       "      <th>13</th>\n",
       "      <td>b'SQL AND MSBI DEVELOPER\\n\\nSQL AND MSBI DEVEL...</td>\n",
       "      <td>SQL</td>\n",
       "    </tr>\n",
       "  </tbody>\n",
       "</table>\n",
       "</div>"
      ],
      "text/plain": [
       "                                          Raw Details Category4\n",
       "0   b'ANIL KUMAR MADDUKURI  \\t\\t\\n\\nSQL & MSBI Dev...       SQL\n",
       "1   b'Aradhana Tripathi\\n\\n\\n\\nCurrent Location: G...       SQL\n",
       "2   b\"BUDDHA VAMSI                                ...       SQL\n",
       "3   b'KAMBALLA PRADEEP                            ...       SQL\n",
       "4   b\"\\xef\\x81\\x81 Hyderabad\\n\\n\\nNazeer Basha\\n\\n...       SQL\n",
       "5   b'Resume\\n\\nName     :  Neeraj Mishra\\n\\n\\n\\nE...       SQL\n",
       "6   b'SQL DEVELOPER\\n\\nName: -   Bandi prem sai\\n\\...       SQL\n",
       "7   b'SQL SERVER DEVELOPER\\n\\n\\n\\n\\n\\nPriyanka L  ...       SQL\n",
       "8   b'SQL SERVER DEVELOPER\\n\\n\\n\\n\\n\\nP. Syam Kuma...       SQL\n",
       "9   b'RAJU PAVANA KUMARI\\n\\n\\n\\n\\t\\n\\n\\tProfession...       SQL\n",
       "10  b'resume\\n\\n\\n\\n\\n\\n\\t\\t\\t\\t\\t\\t\\t\\t\\t\\t\\t\\tRa...       SQL\n",
       "11  b'Name: Ramesh\\n\\n\\t\\n\\n\\tCareer Objective: \\n...       SQL\n",
       "12  b'Tatikonda Kiran Kumar.\\n\\n\\n\\n\\n\\n\\n\\n\\t\\tCa...       SQL\n",
       "13  b'SQL AND MSBI DEVELOPER\\n\\nSQL AND MSBI DEVEL...       SQL"
      ]
     },
     "execution_count": 15,
     "metadata": {},
     "output_type": "execute_result"
    }
   ],
   "source": [
    "data4 = pd.DataFrame(file_path4,columns = ['Raw Details'])\n",
    "data4['Category4'] = category4\n",
    "data4"
   ]
  },
  {
   "cell_type": "code",
   "execution_count": 16,
   "id": "8e6ef254",
   "metadata": {},
   "outputs": [
    {
     "name": "stdout",
     "output_type": "stream",
     "text": [
      "Resumes/workday resumes/Hari Krishna M_Hexaware.doc\n"
     ]
    },
    {
     "data": {
      "application/vnd.jupyter.widget-view+json": {
       "model_id": "c584a4d929ad4b44b6745c734775f072",
       "version_major": 2,
       "version_minor": 0
      },
      "text/plain": [
       "  0%|          | 0/1 [00:00<?, ?it/s]"
      ]
     },
     "metadata": {},
     "output_type": "display_data"
    },
    {
     "name": "stdout",
     "output_type": "stream",
     "text": [
      "Resumes/workday resumes/Harikrishna Akula_Hexaware.doc\n"
     ]
    },
    {
     "data": {
      "application/vnd.jupyter.widget-view+json": {
       "model_id": "2aec8ef48bd14296abe1791d7a81f732",
       "version_major": 2,
       "version_minor": 0
      },
      "text/plain": [
       "  0%|          | 0/1 [00:00<?, ?it/s]"
      ]
     },
     "metadata": {},
     "output_type": "display_data"
    },
    {
     "name": "stdout",
     "output_type": "stream",
     "text": [
      "Resumes/workday resumes/Hima Mendu_Hexaware.doc\n"
     ]
    },
    {
     "data": {
      "application/vnd.jupyter.widget-view+json": {
       "model_id": "02f1f47532df4eb6995953061122311e",
       "version_major": 2,
       "version_minor": 0
      },
      "text/plain": [
       "  0%|          | 0/1 [00:00<?, ?it/s]"
      ]
     },
     "metadata": {},
     "output_type": "display_data"
    },
    {
     "name": "stdout",
     "output_type": "stream",
     "text": [
      "Resumes/workday resumes/J. Sumanth Royal_Hexaware.doc\n"
     ]
    },
    {
     "data": {
      "application/vnd.jupyter.widget-view+json": {
       "model_id": "48fbc85b1e554a9c80dd4b548952f5be",
       "version_major": 2,
       "version_minor": 0
      },
      "text/plain": [
       "  0%|          | 0/1 [00:00<?, ?it/s]"
      ]
     },
     "metadata": {},
     "output_type": "display_data"
    },
    {
     "name": "stdout",
     "output_type": "stream",
     "text": [
      "Resumes/workday resumes/Madeeswar A_Hexaware.doc\n"
     ]
    },
    {
     "data": {
      "application/vnd.jupyter.widget-view+json": {
       "model_id": "9d04b49cfd07496b966859c4856273d8",
       "version_major": 2,
       "version_minor": 0
      },
      "text/plain": [
       "  0%|          | 0/1 [00:00<?, ?it/s]"
      ]
     },
     "metadata": {},
     "output_type": "display_data"
    },
    {
     "name": "stdout",
     "output_type": "stream",
     "text": [
      "Resumes/workday resumes/Naresh Babu Cherukuri_Hexaware.doc\n"
     ]
    },
    {
     "data": {
      "application/vnd.jupyter.widget-view+json": {
       "model_id": "ba3a23a5f64145258d35791dff29c27d",
       "version_major": 2,
       "version_minor": 0
      },
      "text/plain": [
       "  0%|          | 0/1 [00:00<?, ?it/s]"
      ]
     },
     "metadata": {},
     "output_type": "display_data"
    },
    {
     "name": "stdout",
     "output_type": "stream",
     "text": [
      "Resumes/workday resumes/Punugoti Swetha_Hexaware.doc\n"
     ]
    },
    {
     "data": {
      "application/vnd.jupyter.widget-view+json": {
       "model_id": "e85e60b6f5dc415ba6d94e472d7fd819",
       "version_major": 2,
       "version_minor": 0
      },
      "text/plain": [
       "  0%|          | 0/1 [00:00<?, ?it/s]"
      ]
     },
     "metadata": {},
     "output_type": "display_data"
    },
    {
     "name": "stdout",
     "output_type": "stream",
     "text": [
      "Resumes/workday resumes/ShireeshKumar_Hexaware.doc\n"
     ]
    },
    {
     "data": {
      "application/vnd.jupyter.widget-view+json": {
       "model_id": "a5aba335178c4ca9848dcc740d975b4a",
       "version_major": 2,
       "version_minor": 0
      },
      "text/plain": [
       "  0%|          | 0/1 [00:00<?, ?it/s]"
      ]
     },
     "metadata": {},
     "output_type": "display_data"
    },
    {
     "name": "stdout",
     "output_type": "stream",
     "text": [
      "Resumes/workday resumes/Sri Krishna S_Hexaware.doc\n"
     ]
    },
    {
     "data": {
      "application/vnd.jupyter.widget-view+json": {
       "model_id": "3906c7d3f1b34ff2b1b55d332e70cad9",
       "version_major": 2,
       "version_minor": 0
      },
      "text/plain": [
       "  0%|          | 0/1 [00:00<?, ?it/s]"
      ]
     },
     "metadata": {},
     "output_type": "display_data"
    },
    {
     "name": "stdout",
     "output_type": "stream",
     "text": [
      "Resumes/workday resumes/Venkateswarlu B_Hexaware.doc\n"
     ]
    },
    {
     "data": {
      "application/vnd.jupyter.widget-view+json": {
       "model_id": "51aaa0251e934ef08b2ecd25e0dd37e9",
       "version_major": 2,
       "version_minor": 0
      },
      "text/plain": [
       "  0%|          | 0/1 [00:00<?, ?it/s]"
      ]
     },
     "metadata": {},
     "output_type": "display_data"
    }
   ],
   "source": [
    "directory5 = 'Resumes/workday resumes/'\n",
    "workday_resumes = os.listdir('Resumes/workday resumes/')\n",
    "for workday_resume in workday_resumes:\n",
    "    if workday_resume.endswith('.doc'):\n",
    "        os.path.join(directory5,workday_resume)\n",
    "        print(os.path.join(directory5,workday_resume))\n",
    "        doc2docx.convert(os.path.join(directory5,workday_resume))"
   ]
  },
  {
   "cell_type": "code",
   "execution_count": 17,
   "id": "b252d10b",
   "metadata": {},
   "outputs": [],
   "source": [
    "file_path5 = []\n",
    "category5  = []\n",
    "for workday_resume in workday_resumes:\n",
    "    if workday_resume.endswith('.docx'):\n",
    "        os.path.join(directory5,workday_resume)\n",
    "        file_path5.append(textract.process(os.path.join(directory5,workday_resume)))\n",
    "        category5.append('Workday')"
   ]
  },
  {
   "cell_type": "code",
   "execution_count": 18,
   "id": "dde444fb",
   "metadata": {},
   "outputs": [
    {
     "data": {
      "text/html": [
       "<div>\n",
       "<style scoped>\n",
       "    .dataframe tbody tr th:only-of-type {\n",
       "        vertical-align: middle;\n",
       "    }\n",
       "\n",
       "    .dataframe tbody tr th {\n",
       "        vertical-align: top;\n",
       "    }\n",
       "\n",
       "    .dataframe thead th {\n",
       "        text-align: right;\n",
       "    }\n",
       "</style>\n",
       "<table border=\"1\" class=\"dataframe\">\n",
       "  <thead>\n",
       "    <tr style=\"text-align: right;\">\n",
       "      <th></th>\n",
       "      <th>Raw Details</th>\n",
       "      <th>Category5</th>\n",
       "    </tr>\n",
       "  </thead>\n",
       "  <tbody>\n",
       "    <tr>\n",
       "      <th>0</th>\n",
       "      <td>b'Chinna Subbarayudu M\\n\\nDOB: 06th March 1994...</td>\n",
       "      <td>Workday</td>\n",
       "    </tr>\n",
       "    <tr>\n",
       "      <th>1</th>\n",
       "      <td>b'Name         : Gopi Krishna Reddy\\n\\n\\t\\t\\t\\...</td>\n",
       "      <td>Workday</td>\n",
       "    </tr>\n",
       "    <tr>\n",
       "      <th>2</th>\n",
       "      <td>b\"Hari Krishna M\\n\\n\\n\\n\\n\\nSummary:\\n\\nA resu...</td>\n",
       "      <td>Workday</td>\n",
       "    </tr>\n",
       "    <tr>\n",
       "      <th>3</th>\n",
       "      <td>b\"Harikrishna Akula                           ...</td>\n",
       "      <td>Workday</td>\n",
       "    </tr>\n",
       "    <tr>\n",
       "      <th>4</th>\n",
       "      <td>b'HIMA.MENDU\\n\\n\\t  \\n\\n\\n\\nCareer Objective\\n...</td>\n",
       "      <td>Workday</td>\n",
       "    </tr>\n",
       "    <tr>\n",
       "      <th>5</th>\n",
       "      <td>b'G Himaja\\n\\n                                ...</td>\n",
       "      <td>Workday</td>\n",
       "    </tr>\n",
       "    <tr>\n",
       "      <th>6</th>\n",
       "      <td>b\"Name:\\tJ. Sumanth Royal.\\n\\n\\t\\n\\nPROFESSION...</td>\n",
       "      <td>Workday</td>\n",
       "    </tr>\n",
       "    <tr>\n",
       "      <th>7</th>\n",
       "      <td>b'JYOTI VERMA\\t\\t\\t\\t\\t\\n\\n\\n\\nPROFESSIONAL SU...</td>\n",
       "      <td>Workday</td>\n",
       "    </tr>\n",
       "    <tr>\n",
       "      <th>8</th>\n",
       "      <td>b'Madeeswar A\\n\\n\\t\\n\\n\\t\\t\\n\\n\\t\\t\\tPROFILE S...</td>\n",
       "      <td>Workday</td>\n",
       "    </tr>\n",
       "    <tr>\n",
       "      <th>9</th>\n",
       "      <td>b'Mooraboyina Guravaiah\\n\\nWorkday Integration...</td>\n",
       "      <td>Workday</td>\n",
       "    </tr>\n",
       "    <tr>\n",
       "      <th>10</th>\n",
       "      <td>b'Name\\t: Naresh Babu Cherukuri\\n\\n\\n\\nObjecti...</td>\n",
       "      <td>Workday</td>\n",
       "    </tr>\n",
       "    <tr>\n",
       "      <th>11</th>\n",
       "      <td>b'VENKATA SAIKRISHNA\\n\\n Workday Consultant\\n\\...</td>\n",
       "      <td>Workday</td>\n",
       "    </tr>\n",
       "    <tr>\n",
       "      <th>12</th>\n",
       "      <td>b'Punugoti Swetha\\n\\nWorkday Technical Consult...</td>\n",
       "      <td>Workday</td>\n",
       "    </tr>\n",
       "    <tr>\n",
       "      <th>13</th>\n",
       "      <td>b'Workday HCM  Techno functional Consultant   ...</td>\n",
       "      <td>Workday</td>\n",
       "    </tr>\n",
       "    <tr>\n",
       "      <th>14</th>\n",
       "      <td>b'Ramesh A\\t\\t\\t\\t\\t\\t\\t\\t\\t\\t\\t\\t\\t\\t\\t\\t\\t\\t...</td>\n",
       "      <td>Workday</td>\n",
       "    </tr>\n",
       "    <tr>\n",
       "      <th>15</th>\n",
       "      <td>b'Shireesh Balasani                           ...</td>\n",
       "      <td>Workday</td>\n",
       "    </tr>\n",
       "    <tr>\n",
       "      <th>16</th>\n",
       "      <td>b\"Workday Integration Consultant\\n\\n\\n\\nName  ...</td>\n",
       "      <td>Workday</td>\n",
       "    </tr>\n",
       "    <tr>\n",
       "      <th>17</th>\n",
       "      <td>b'Srikanth (WORKDAY hCM Consultant)\\t         ...</td>\n",
       "      <td>Workday</td>\n",
       "    </tr>\n",
       "    <tr>\n",
       "      <th>18</th>\n",
       "      <td>b'WORKDAY | HCM | FCM\\n\\nName \\t\\t: Kumar S.S\\...</td>\n",
       "      <td>Workday</td>\n",
       "    </tr>\n",
       "    <tr>\n",
       "      <th>19</th>\n",
       "      <td>b'Venkateswarlu.B\\t\\t\\t\\t\\t\\t\\t\\tWorkday Consu...</td>\n",
       "      <td>Workday</td>\n",
       "    </tr>\n",
       "    <tr>\n",
       "      <th>20</th>\n",
       "      <td>b'Vinay kumar .v\\nWorkday Functional Consultan...</td>\n",
       "      <td>Workday</td>\n",
       "    </tr>\n",
       "  </tbody>\n",
       "</table>\n",
       "</div>"
      ],
      "text/plain": [
       "                                          Raw Details Category5\n",
       "0   b'Chinna Subbarayudu M\\n\\nDOB: 06th March 1994...   Workday\n",
       "1   b'Name         : Gopi Krishna Reddy\\n\\n\\t\\t\\t\\...   Workday\n",
       "2   b\"Hari Krishna M\\n\\n\\n\\n\\n\\nSummary:\\n\\nA resu...   Workday\n",
       "3   b\"Harikrishna Akula                           ...   Workday\n",
       "4   b'HIMA.MENDU\\n\\n\\t  \\n\\n\\n\\nCareer Objective\\n...   Workday\n",
       "5   b'G Himaja\\n\\n                                ...   Workday\n",
       "6   b\"Name:\\tJ. Sumanth Royal.\\n\\n\\t\\n\\nPROFESSION...   Workday\n",
       "7   b'JYOTI VERMA\\t\\t\\t\\t\\t\\n\\n\\n\\nPROFESSIONAL SU...   Workday\n",
       "8   b'Madeeswar A\\n\\n\\t\\n\\n\\t\\t\\n\\n\\t\\t\\tPROFILE S...   Workday\n",
       "9   b'Mooraboyina Guravaiah\\n\\nWorkday Integration...   Workday\n",
       "10  b'Name\\t: Naresh Babu Cherukuri\\n\\n\\n\\nObjecti...   Workday\n",
       "11  b'VENKATA SAIKRISHNA\\n\\n Workday Consultant\\n\\...   Workday\n",
       "12  b'Punugoti Swetha\\n\\nWorkday Technical Consult...   Workday\n",
       "13  b'Workday HCM  Techno functional Consultant   ...   Workday\n",
       "14  b'Ramesh A\\t\\t\\t\\t\\t\\t\\t\\t\\t\\t\\t\\t\\t\\t\\t\\t\\t\\t...   Workday\n",
       "15  b'Shireesh Balasani                           ...   Workday\n",
       "16  b\"Workday Integration Consultant\\n\\n\\n\\nName  ...   Workday\n",
       "17  b'Srikanth (WORKDAY hCM Consultant)\\t         ...   Workday\n",
       "18  b'WORKDAY | HCM | FCM\\n\\nName \\t\\t: Kumar S.S\\...   Workday\n",
       "19  b'Venkateswarlu.B\\t\\t\\t\\t\\t\\t\\t\\tWorkday Consu...   Workday\n",
       "20  b'Vinay kumar .v\\nWorkday Functional Consultan...   Workday"
      ]
     },
     "execution_count": 18,
     "metadata": {},
     "output_type": "execute_result"
    }
   ],
   "source": [
    "data5 = pd.DataFrame(file_path5,columns = ['Raw Details'])\n",
    "data5['Category5'] = category5\n",
    "data5"
   ]
  },
  {
   "cell_type": "markdown",
   "id": "6362c6d4",
   "metadata": {},
   "source": [
    "## Appending all the DataFrame and combining them into one single data frame"
   ]
  },
  {
   "cell_type": "code",
   "execution_count": 19,
   "id": "ca52161e",
   "metadata": {
    "scrolled": true
   },
   "outputs": [
    {
     "data": {
      "text/html": [
       "<div>\n",
       "<style scoped>\n",
       "    .dataframe tbody tr th:only-of-type {\n",
       "        vertical-align: middle;\n",
       "    }\n",
       "\n",
       "    .dataframe tbody tr th {\n",
       "        vertical-align: top;\n",
       "    }\n",
       "\n",
       "    .dataframe thead th {\n",
       "        text-align: right;\n",
       "    }\n",
       "</style>\n",
       "<table border=\"1\" class=\"dataframe\">\n",
       "  <thead>\n",
       "    <tr style=\"text-align: right;\">\n",
       "      <th></th>\n",
       "      <th>Raw Details</th>\n",
       "      <th>Category</th>\n",
       "      <th>Category2</th>\n",
       "      <th>Category3</th>\n",
       "      <th>Category4</th>\n",
       "      <th>Category5</th>\n",
       "    </tr>\n",
       "  </thead>\n",
       "  <tbody>\n",
       "    <tr>\n",
       "      <th>0</th>\n",
       "      <td>b'Name: Ravali P \\n\\n\\n\\n                     ...</td>\n",
       "      <td>Intership</td>\n",
       "      <td>NaN</td>\n",
       "      <td>NaN</td>\n",
       "      <td>NaN</td>\n",
       "      <td>NaN</td>\n",
       "    </tr>\n",
       "    <tr>\n",
       "      <th>1</th>\n",
       "      <td>b'SUSOVAN  BAG   \\n\\nSeeking  a  challenging  ...</td>\n",
       "      <td>Intership</td>\n",
       "      <td>NaN</td>\n",
       "      <td>NaN</td>\n",
       "      <td>NaN</td>\n",
       "      <td>NaN</td>\n",
       "    </tr>\n",
       "    <tr>\n",
       "      <th>2</th>\n",
       "      <td>b'Anubhav Kumar Singh\\t\\t\\n\\n\\n\\nCore Competen...</td>\n",
       "      <td>NaN</td>\n",
       "      <td>Peoplesoft</td>\n",
       "      <td>NaN</td>\n",
       "      <td>NaN</td>\n",
       "      <td>NaN</td>\n",
       "    </tr>\n",
       "    <tr>\n",
       "      <th>3</th>\n",
       "      <td>b'G. Ananda Rayudu \\n\\n\\t\\t       https://www....</td>\n",
       "      <td>NaN</td>\n",
       "      <td>Peoplesoft</td>\n",
       "      <td>NaN</td>\n",
       "      <td>NaN</td>\n",
       "      <td>NaN</td>\n",
       "    </tr>\n",
       "    <tr>\n",
       "      <th>4</th>\n",
       "      <td>b'PeopleSoft Database Administrator\\n\\n       ...</td>\n",
       "      <td>NaN</td>\n",
       "      <td>Peoplesoft</td>\n",
       "      <td>NaN</td>\n",
       "      <td>NaN</td>\n",
       "      <td>NaN</td>\n",
       "    </tr>\n",
       "    <tr>\n",
       "      <th>...</th>\n",
       "      <td>...</td>\n",
       "      <td>...</td>\n",
       "      <td>...</td>\n",
       "      <td>...</td>\n",
       "      <td>...</td>\n",
       "      <td>...</td>\n",
       "    </tr>\n",
       "    <tr>\n",
       "      <th>74</th>\n",
       "      <td>b\"Workday Integration Consultant\\n\\n\\n\\nName  ...</td>\n",
       "      <td>NaN</td>\n",
       "      <td>NaN</td>\n",
       "      <td>NaN</td>\n",
       "      <td>NaN</td>\n",
       "      <td>Workday</td>\n",
       "    </tr>\n",
       "    <tr>\n",
       "      <th>75</th>\n",
       "      <td>b'Srikanth (WORKDAY hCM Consultant)\\t         ...</td>\n",
       "      <td>NaN</td>\n",
       "      <td>NaN</td>\n",
       "      <td>NaN</td>\n",
       "      <td>NaN</td>\n",
       "      <td>Workday</td>\n",
       "    </tr>\n",
       "    <tr>\n",
       "      <th>76</th>\n",
       "      <td>b'WORKDAY | HCM | FCM\\n\\nName \\t\\t: Kumar S.S\\...</td>\n",
       "      <td>NaN</td>\n",
       "      <td>NaN</td>\n",
       "      <td>NaN</td>\n",
       "      <td>NaN</td>\n",
       "      <td>Workday</td>\n",
       "    </tr>\n",
       "    <tr>\n",
       "      <th>77</th>\n",
       "      <td>b'Venkateswarlu.B\\t\\t\\t\\t\\t\\t\\t\\tWorkday Consu...</td>\n",
       "      <td>NaN</td>\n",
       "      <td>NaN</td>\n",
       "      <td>NaN</td>\n",
       "      <td>NaN</td>\n",
       "      <td>Workday</td>\n",
       "    </tr>\n",
       "    <tr>\n",
       "      <th>78</th>\n",
       "      <td>b'Vinay kumar .v\\nWorkday Functional Consultan...</td>\n",
       "      <td>NaN</td>\n",
       "      <td>NaN</td>\n",
       "      <td>NaN</td>\n",
       "      <td>NaN</td>\n",
       "      <td>Workday</td>\n",
       "    </tr>\n",
       "  </tbody>\n",
       "</table>\n",
       "<p>79 rows × 6 columns</p>\n",
       "</div>"
      ],
      "text/plain": [
       "                                          Raw Details   Category   Category2  \\\n",
       "0   b'Name: Ravali P \\n\\n\\n\\n                     ...  Intership         NaN   \n",
       "1   b'SUSOVAN  BAG   \\n\\nSeeking  a  challenging  ...  Intership         NaN   \n",
       "2   b'Anubhav Kumar Singh\\t\\t\\n\\n\\n\\nCore Competen...        NaN  Peoplesoft   \n",
       "3   b'G. Ananda Rayudu \\n\\n\\t\\t       https://www....        NaN  Peoplesoft   \n",
       "4   b'PeopleSoft Database Administrator\\n\\n       ...        NaN  Peoplesoft   \n",
       "..                                                ...        ...         ...   \n",
       "74  b\"Workday Integration Consultant\\n\\n\\n\\nName  ...        NaN         NaN   \n",
       "75  b'Srikanth (WORKDAY hCM Consultant)\\t         ...        NaN         NaN   \n",
       "76  b'WORKDAY | HCM | FCM\\n\\nName \\t\\t: Kumar S.S\\...        NaN         NaN   \n",
       "77  b'Venkateswarlu.B\\t\\t\\t\\t\\t\\t\\t\\tWorkday Consu...        NaN         NaN   \n",
       "78  b'Vinay kumar .v\\nWorkday Functional Consultan...        NaN         NaN   \n",
       "\n",
       "   Category3 Category4 Category5  \n",
       "0        NaN       NaN       NaN  \n",
       "1        NaN       NaN       NaN  \n",
       "2        NaN       NaN       NaN  \n",
       "3        NaN       NaN       NaN  \n",
       "4        NaN       NaN       NaN  \n",
       "..       ...       ...       ...  \n",
       "74       NaN       NaN   Workday  \n",
       "75       NaN       NaN   Workday  \n",
       "76       NaN       NaN   Workday  \n",
       "77       NaN       NaN   Workday  \n",
       "78       NaN       NaN   Workday  \n",
       "\n",
       "[79 rows x 6 columns]"
      ]
     },
     "execution_count": 19,
     "metadata": {},
     "output_type": "execute_result"
    }
   ],
   "source": [
    "resume_data = data1.append([data2,data3,data4,data5],ignore_index=True)\n",
    "resume_data"
   ]
  },
  {
   "cell_type": "code",
   "execution_count": 20,
   "id": "83e0c0be",
   "metadata": {},
   "outputs": [
    {
     "data": {
      "text/html": [
       "<div>\n",
       "<style scoped>\n",
       "    .dataframe tbody tr th:only-of-type {\n",
       "        vertical-align: middle;\n",
       "    }\n",
       "\n",
       "    .dataframe tbody tr th {\n",
       "        vertical-align: top;\n",
       "    }\n",
       "\n",
       "    .dataframe thead th {\n",
       "        text-align: right;\n",
       "    }\n",
       "</style>\n",
       "<table border=\"1\" class=\"dataframe\">\n",
       "  <thead>\n",
       "    <tr style=\"text-align: right;\">\n",
       "      <th></th>\n",
       "      <th>Raw Details</th>\n",
       "      <th>Category</th>\n",
       "      <th>Category2</th>\n",
       "      <th>Category3</th>\n",
       "      <th>Category4</th>\n",
       "      <th>Category5</th>\n",
       "      <th>Resume_Category</th>\n",
       "    </tr>\n",
       "  </thead>\n",
       "  <tbody>\n",
       "    <tr>\n",
       "      <th>0</th>\n",
       "      <td>b'Name: Ravali P \\n\\n\\n\\n                     ...</td>\n",
       "      <td>Intership</td>\n",
       "      <td>NaN</td>\n",
       "      <td>NaN</td>\n",
       "      <td>NaN</td>\n",
       "      <td>NaN</td>\n",
       "      <td>Intership</td>\n",
       "    </tr>\n",
       "    <tr>\n",
       "      <th>1</th>\n",
       "      <td>b'SUSOVAN  BAG   \\n\\nSeeking  a  challenging  ...</td>\n",
       "      <td>Intership</td>\n",
       "      <td>NaN</td>\n",
       "      <td>NaN</td>\n",
       "      <td>NaN</td>\n",
       "      <td>NaN</td>\n",
       "      <td>Intership</td>\n",
       "    </tr>\n",
       "    <tr>\n",
       "      <th>2</th>\n",
       "      <td>b'Anubhav Kumar Singh\\t\\t\\n\\n\\n\\nCore Competen...</td>\n",
       "      <td>NaN</td>\n",
       "      <td>Peoplesoft</td>\n",
       "      <td>NaN</td>\n",
       "      <td>NaN</td>\n",
       "      <td>NaN</td>\n",
       "      <td>Peoplesoft</td>\n",
       "    </tr>\n",
       "    <tr>\n",
       "      <th>3</th>\n",
       "      <td>b'G. Ananda Rayudu \\n\\n\\t\\t       https://www....</td>\n",
       "      <td>NaN</td>\n",
       "      <td>Peoplesoft</td>\n",
       "      <td>NaN</td>\n",
       "      <td>NaN</td>\n",
       "      <td>NaN</td>\n",
       "      <td>Peoplesoft</td>\n",
       "    </tr>\n",
       "    <tr>\n",
       "      <th>4</th>\n",
       "      <td>b'PeopleSoft Database Administrator\\n\\n       ...</td>\n",
       "      <td>NaN</td>\n",
       "      <td>Peoplesoft</td>\n",
       "      <td>NaN</td>\n",
       "      <td>NaN</td>\n",
       "      <td>NaN</td>\n",
       "      <td>Peoplesoft</td>\n",
       "    </tr>\n",
       "    <tr>\n",
       "      <th>...</th>\n",
       "      <td>...</td>\n",
       "      <td>...</td>\n",
       "      <td>...</td>\n",
       "      <td>...</td>\n",
       "      <td>...</td>\n",
       "      <td>...</td>\n",
       "      <td>...</td>\n",
       "    </tr>\n",
       "    <tr>\n",
       "      <th>74</th>\n",
       "      <td>b\"Workday Integration Consultant\\n\\n\\n\\nName  ...</td>\n",
       "      <td>NaN</td>\n",
       "      <td>NaN</td>\n",
       "      <td>NaN</td>\n",
       "      <td>NaN</td>\n",
       "      <td>Workday</td>\n",
       "      <td>Workday</td>\n",
       "    </tr>\n",
       "    <tr>\n",
       "      <th>75</th>\n",
       "      <td>b'Srikanth (WORKDAY hCM Consultant)\\t         ...</td>\n",
       "      <td>NaN</td>\n",
       "      <td>NaN</td>\n",
       "      <td>NaN</td>\n",
       "      <td>NaN</td>\n",
       "      <td>Workday</td>\n",
       "      <td>Workday</td>\n",
       "    </tr>\n",
       "    <tr>\n",
       "      <th>76</th>\n",
       "      <td>b'WORKDAY | HCM | FCM\\n\\nName \\t\\t: Kumar S.S\\...</td>\n",
       "      <td>NaN</td>\n",
       "      <td>NaN</td>\n",
       "      <td>NaN</td>\n",
       "      <td>NaN</td>\n",
       "      <td>Workday</td>\n",
       "      <td>Workday</td>\n",
       "    </tr>\n",
       "    <tr>\n",
       "      <th>77</th>\n",
       "      <td>b'Venkateswarlu.B\\t\\t\\t\\t\\t\\t\\t\\tWorkday Consu...</td>\n",
       "      <td>NaN</td>\n",
       "      <td>NaN</td>\n",
       "      <td>NaN</td>\n",
       "      <td>NaN</td>\n",
       "      <td>Workday</td>\n",
       "      <td>Workday</td>\n",
       "    </tr>\n",
       "    <tr>\n",
       "      <th>78</th>\n",
       "      <td>b'Vinay kumar .v\\nWorkday Functional Consultan...</td>\n",
       "      <td>NaN</td>\n",
       "      <td>NaN</td>\n",
       "      <td>NaN</td>\n",
       "      <td>NaN</td>\n",
       "      <td>Workday</td>\n",
       "      <td>Workday</td>\n",
       "    </tr>\n",
       "  </tbody>\n",
       "</table>\n",
       "<p>79 rows × 7 columns</p>\n",
       "</div>"
      ],
      "text/plain": [
       "                                          Raw Details   Category   Category2  \\\n",
       "0   b'Name: Ravali P \\n\\n\\n\\n                     ...  Intership         NaN   \n",
       "1   b'SUSOVAN  BAG   \\n\\nSeeking  a  challenging  ...  Intership         NaN   \n",
       "2   b'Anubhav Kumar Singh\\t\\t\\n\\n\\n\\nCore Competen...        NaN  Peoplesoft   \n",
       "3   b'G. Ananda Rayudu \\n\\n\\t\\t       https://www....        NaN  Peoplesoft   \n",
       "4   b'PeopleSoft Database Administrator\\n\\n       ...        NaN  Peoplesoft   \n",
       "..                                                ...        ...         ...   \n",
       "74  b\"Workday Integration Consultant\\n\\n\\n\\nName  ...        NaN         NaN   \n",
       "75  b'Srikanth (WORKDAY hCM Consultant)\\t         ...        NaN         NaN   \n",
       "76  b'WORKDAY | HCM | FCM\\n\\nName \\t\\t: Kumar S.S\\...        NaN         NaN   \n",
       "77  b'Venkateswarlu.B\\t\\t\\t\\t\\t\\t\\t\\tWorkday Consu...        NaN         NaN   \n",
       "78  b'Vinay kumar .v\\nWorkday Functional Consultan...        NaN         NaN   \n",
       "\n",
       "   Category3 Category4 Category5 Resume_Category  \n",
       "0        NaN       NaN       NaN       Intership  \n",
       "1        NaN       NaN       NaN       Intership  \n",
       "2        NaN       NaN       NaN      Peoplesoft  \n",
       "3        NaN       NaN       NaN      Peoplesoft  \n",
       "4        NaN       NaN       NaN      Peoplesoft  \n",
       "..       ...       ...       ...             ...  \n",
       "74       NaN       NaN   Workday         Workday  \n",
       "75       NaN       NaN   Workday         Workday  \n",
       "76       NaN       NaN   Workday         Workday  \n",
       "77       NaN       NaN   Workday         Workday  \n",
       "78       NaN       NaN   Workday         Workday  \n",
       "\n",
       "[79 rows x 7 columns]"
      ]
     },
     "execution_count": 20,
     "metadata": {},
     "output_type": "execute_result"
    }
   ],
   "source": [
    "resume_data['Resume_Category'] = category1+category2+category3+category4+category5\n",
    "resume_data"
   ]
  },
  {
   "cell_type": "code",
   "execution_count": 21,
   "id": "e3412ab5",
   "metadata": {},
   "outputs": [],
   "source": [
    "resume_data.drop(['Category', 'Category2', 'Category3', 'Category4','Category5'], axis = 1, inplace = True)"
   ]
  },
  {
   "cell_type": "code",
   "execution_count": 22,
   "id": "0ea65a05",
   "metadata": {},
   "outputs": [
    {
     "data": {
      "text/html": [
       "<div>\n",
       "<style scoped>\n",
       "    .dataframe tbody tr th:only-of-type {\n",
       "        vertical-align: middle;\n",
       "    }\n",
       "\n",
       "    .dataframe tbody tr th {\n",
       "        vertical-align: top;\n",
       "    }\n",
       "\n",
       "    .dataframe thead th {\n",
       "        text-align: right;\n",
       "    }\n",
       "</style>\n",
       "<table border=\"1\" class=\"dataframe\">\n",
       "  <thead>\n",
       "    <tr style=\"text-align: right;\">\n",
       "      <th></th>\n",
       "      <th>Resume_Category</th>\n",
       "      <th>Raw Details</th>\n",
       "    </tr>\n",
       "  </thead>\n",
       "  <tbody>\n",
       "    <tr>\n",
       "      <th>0</th>\n",
       "      <td>Intership</td>\n",
       "      <td>b'Name: Ravali P \\n\\n\\n\\n                     ...</td>\n",
       "    </tr>\n",
       "    <tr>\n",
       "      <th>1</th>\n",
       "      <td>Intership</td>\n",
       "      <td>b'SUSOVAN  BAG   \\n\\nSeeking  a  challenging  ...</td>\n",
       "    </tr>\n",
       "    <tr>\n",
       "      <th>2</th>\n",
       "      <td>Peoplesoft</td>\n",
       "      <td>b'Anubhav Kumar Singh\\t\\t\\n\\n\\n\\nCore Competen...</td>\n",
       "    </tr>\n",
       "    <tr>\n",
       "      <th>3</th>\n",
       "      <td>Peoplesoft</td>\n",
       "      <td>b'G. Ananda Rayudu \\n\\n\\t\\t       https://www....</td>\n",
       "    </tr>\n",
       "    <tr>\n",
       "      <th>4</th>\n",
       "      <td>Peoplesoft</td>\n",
       "      <td>b'PeopleSoft Database Administrator\\n\\n       ...</td>\n",
       "    </tr>\n",
       "    <tr>\n",
       "      <th>...</th>\n",
       "      <td>...</td>\n",
       "      <td>...</td>\n",
       "    </tr>\n",
       "    <tr>\n",
       "      <th>74</th>\n",
       "      <td>Workday</td>\n",
       "      <td>b\"Workday Integration Consultant\\n\\n\\n\\nName  ...</td>\n",
       "    </tr>\n",
       "    <tr>\n",
       "      <th>75</th>\n",
       "      <td>Workday</td>\n",
       "      <td>b'Srikanth (WORKDAY hCM Consultant)\\t         ...</td>\n",
       "    </tr>\n",
       "    <tr>\n",
       "      <th>76</th>\n",
       "      <td>Workday</td>\n",
       "      <td>b'WORKDAY | HCM | FCM\\n\\nName \\t\\t: Kumar S.S\\...</td>\n",
       "    </tr>\n",
       "    <tr>\n",
       "      <th>77</th>\n",
       "      <td>Workday</td>\n",
       "      <td>b'Venkateswarlu.B\\t\\t\\t\\t\\t\\t\\t\\tWorkday Consu...</td>\n",
       "    </tr>\n",
       "    <tr>\n",
       "      <th>78</th>\n",
       "      <td>Workday</td>\n",
       "      <td>b'Vinay kumar .v\\nWorkday Functional Consultan...</td>\n",
       "    </tr>\n",
       "  </tbody>\n",
       "</table>\n",
       "<p>79 rows × 2 columns</p>\n",
       "</div>"
      ],
      "text/plain": [
       "   Resume_Category                                        Raw Details\n",
       "0        Intership  b'Name: Ravali P \\n\\n\\n\\n                     ...\n",
       "1        Intership  b'SUSOVAN  BAG   \\n\\nSeeking  a  challenging  ...\n",
       "2       Peoplesoft  b'Anubhav Kumar Singh\\t\\t\\n\\n\\n\\nCore Competen...\n",
       "3       Peoplesoft  b'G. Ananda Rayudu \\n\\n\\t\\t       https://www....\n",
       "4       Peoplesoft  b'PeopleSoft Database Administrator\\n\\n       ...\n",
       "..             ...                                                ...\n",
       "74         Workday  b\"Workday Integration Consultant\\n\\n\\n\\nName  ...\n",
       "75         Workday  b'Srikanth (WORKDAY hCM Consultant)\\t         ...\n",
       "76         Workday  b'WORKDAY | HCM | FCM\\n\\nName \\t\\t: Kumar S.S\\...\n",
       "77         Workday  b'Venkateswarlu.B\\t\\t\\t\\t\\t\\t\\t\\tWorkday Consu...\n",
       "78         Workday  b'Vinay kumar .v\\nWorkday Functional Consultan...\n",
       "\n",
       "[79 rows x 2 columns]"
      ]
     },
     "execution_count": 22,
     "metadata": {},
     "output_type": "execute_result"
    }
   ],
   "source": [
    "resume_data = resume_data[['Resume_Category','Raw Details']]\n",
    "resume_data"
   ]
  },
  {
   "cell_type": "code",
   "execution_count": 23,
   "id": "f5627765",
   "metadata": {},
   "outputs": [
    {
     "data": {
      "text/html": [
       "<div>\n",
       "<style scoped>\n",
       "    .dataframe tbody tr th:only-of-type {\n",
       "        vertical-align: middle;\n",
       "    }\n",
       "\n",
       "    .dataframe tbody tr th {\n",
       "        vertical-align: top;\n",
       "    }\n",
       "\n",
       "    .dataframe thead th {\n",
       "        text-align: right;\n",
       "    }\n",
       "</style>\n",
       "<table border=\"1\" class=\"dataframe\">\n",
       "  <thead>\n",
       "    <tr style=\"text-align: right;\">\n",
       "      <th></th>\n",
       "      <th>Resume_Category</th>\n",
       "      <th>Raw Details</th>\n",
       "      <th>Category_num</th>\n",
       "    </tr>\n",
       "  </thead>\n",
       "  <tbody>\n",
       "    <tr>\n",
       "      <th>0</th>\n",
       "      <td>Intership</td>\n",
       "      <td>b'Name: Ravali P \\n\\n\\n\\n                     ...</td>\n",
       "      <td>0</td>\n",
       "    </tr>\n",
       "    <tr>\n",
       "      <th>1</th>\n",
       "      <td>Intership</td>\n",
       "      <td>b'SUSOVAN  BAG   \\n\\nSeeking  a  challenging  ...</td>\n",
       "      <td>0</td>\n",
       "    </tr>\n",
       "    <tr>\n",
       "      <th>2</th>\n",
       "      <td>Peoplesoft</td>\n",
       "      <td>b'Anubhav Kumar Singh\\t\\t\\n\\n\\n\\nCore Competen...</td>\n",
       "      <td>1</td>\n",
       "    </tr>\n",
       "    <tr>\n",
       "      <th>3</th>\n",
       "      <td>Peoplesoft</td>\n",
       "      <td>b'G. Ananda Rayudu \\n\\n\\t\\t       https://www....</td>\n",
       "      <td>1</td>\n",
       "    </tr>\n",
       "    <tr>\n",
       "      <th>4</th>\n",
       "      <td>Peoplesoft</td>\n",
       "      <td>b'PeopleSoft Database Administrator\\n\\n       ...</td>\n",
       "      <td>1</td>\n",
       "    </tr>\n",
       "    <tr>\n",
       "      <th>...</th>\n",
       "      <td>...</td>\n",
       "      <td>...</td>\n",
       "      <td>...</td>\n",
       "    </tr>\n",
       "    <tr>\n",
       "      <th>74</th>\n",
       "      <td>Workday</td>\n",
       "      <td>b\"Workday Integration Consultant\\n\\n\\n\\nName  ...</td>\n",
       "      <td>4</td>\n",
       "    </tr>\n",
       "    <tr>\n",
       "      <th>75</th>\n",
       "      <td>Workday</td>\n",
       "      <td>b'Srikanth (WORKDAY hCM Consultant)\\t         ...</td>\n",
       "      <td>4</td>\n",
       "    </tr>\n",
       "    <tr>\n",
       "      <th>76</th>\n",
       "      <td>Workday</td>\n",
       "      <td>b'WORKDAY | HCM | FCM\\n\\nName \\t\\t: Kumar S.S\\...</td>\n",
       "      <td>4</td>\n",
       "    </tr>\n",
       "    <tr>\n",
       "      <th>77</th>\n",
       "      <td>Workday</td>\n",
       "      <td>b'Venkateswarlu.B\\t\\t\\t\\t\\t\\t\\t\\tWorkday Consu...</td>\n",
       "      <td>4</td>\n",
       "    </tr>\n",
       "    <tr>\n",
       "      <th>78</th>\n",
       "      <td>Workday</td>\n",
       "      <td>b'Vinay kumar .v\\nWorkday Functional Consultan...</td>\n",
       "      <td>4</td>\n",
       "    </tr>\n",
       "  </tbody>\n",
       "</table>\n",
       "<p>79 rows × 3 columns</p>\n",
       "</div>"
      ],
      "text/plain": [
       "   Resume_Category                                        Raw Details  \\\n",
       "0        Intership  b'Name: Ravali P \\n\\n\\n\\n                     ...   \n",
       "1        Intership  b'SUSOVAN  BAG   \\n\\nSeeking  a  challenging  ...   \n",
       "2       Peoplesoft  b'Anubhav Kumar Singh\\t\\t\\n\\n\\n\\nCore Competen...   \n",
       "3       Peoplesoft  b'G. Ananda Rayudu \\n\\n\\t\\t       https://www....   \n",
       "4       Peoplesoft  b'PeopleSoft Database Administrator\\n\\n       ...   \n",
       "..             ...                                                ...   \n",
       "74         Workday  b\"Workday Integration Consultant\\n\\n\\n\\nName  ...   \n",
       "75         Workday  b'Srikanth (WORKDAY hCM Consultant)\\t         ...   \n",
       "76         Workday  b'WORKDAY | HCM | FCM\\n\\nName \\t\\t: Kumar S.S\\...   \n",
       "77         Workday  b'Venkateswarlu.B\\t\\t\\t\\t\\t\\t\\t\\tWorkday Consu...   \n",
       "78         Workday  b'Vinay kumar .v\\nWorkday Functional Consultan...   \n",
       "\n",
       "    Category_num  \n",
       "0              0  \n",
       "1              0  \n",
       "2              1  \n",
       "3              1  \n",
       "4              1  \n",
       "..           ...  \n",
       "74             4  \n",
       "75             4  \n",
       "76             4  \n",
       "77             4  \n",
       "78             4  \n",
       "\n",
       "[79 rows x 3 columns]"
      ]
     },
     "execution_count": 23,
     "metadata": {},
     "output_type": "execute_result"
    }
   ],
   "source": [
    "le = LabelEncoder()\n",
    "resume_data['Category_num'] = le.fit_transform(resume_data['Resume_Category'])\n",
    "resume_data"
   ]
  },
  {
   "cell_type": "markdown",
   "id": "e7469b1f",
   "metadata": {},
   "source": [
    "## Save the data in csv form resume data for further processing "
   ]
  },
  {
   "cell_type": "code",
   "execution_count": 24,
   "id": "8441e6db",
   "metadata": {},
   "outputs": [],
   "source": [
    "resume_data.to_csv(\"resume_data.csv\",index=False)"
   ]
  }
 ],
 "metadata": {
  "kernelspec": {
   "display_name": "Python 3 (ipykernel)",
   "language": "python",
   "name": "python3"
  },
  "language_info": {
   "codemirror_mode": {
    "name": "ipython",
    "version": 3
   },
   "file_extension": ".py",
   "mimetype": "text/x-python",
   "name": "python",
   "nbconvert_exporter": "python",
   "pygments_lexer": "ipython3",
   "version": "3.11.3"
  }
 },
 "nbformat": 4,
 "nbformat_minor": 5
}
